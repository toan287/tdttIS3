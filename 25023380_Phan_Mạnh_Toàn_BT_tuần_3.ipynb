{
  "nbformat": 4,
  "nbformat_minor": 0,
  "metadata": {
    "colab": {
      "provenance": []
    },
    "kernelspec": {
      "name": "python3",
      "display_name": "Python 3"
    },
    "language_info": {
      "name": "python"
    }
  },
  "cells": [
    {
      "cell_type": "markdown",
      "source": [
        "W3A2:"
      ],
      "metadata": {
        "id": "iqT-ovLxmJYp"
      }
    },
    {
      "cell_type": "code",
      "source": [
        "\n",
        "a = int(input(\"Nhập số a: \"))\n",
        "b = int(input(\"Nhập số b: \"))\n",
        "print(\"Trước khi hoán đổi:\")\n",
        "print(\"a =\", a)\n",
        "print(\"b =\", b)\n",
        "a = a ^ b\n",
        "b = a ^ b\n",
        "a = a ^ b\n",
        "print(\"Sau khi hoán đổi:\")\n",
        "print(\"a =\", a)\n",
        "print(\"b =\", b)\n"
      ],
      "metadata": {
        "colab": {
          "base_uri": "https://localhost:8080/"
        },
        "id": "_-G0u0GwmLUB",
        "outputId": "7043f5d1-e473-4cdc-83cf-0ffdd1b85bdd"
      },
      "execution_count": 3,
      "outputs": [
        {
          "output_type": "stream",
          "name": "stdout",
          "text": [
            "Nhập số a: 4\n",
            "Nhập số b: 7\n",
            "Trước khi hoán đổi:\n",
            "a = 4\n",
            "b = 7\n",
            "Sau khi hoán đổi:\n",
            "a = 7\n",
            "b = 4\n"
          ]
        }
      ]
    },
    {
      "cell_type": "markdown",
      "source": [
        "W3A3"
      ],
      "metadata": {
        "id": "4w7bF3Hmmj8p"
      }
    },
    {
      "cell_type": "code",
      "source": [
        "n = int(input(\"Nhập vào một số nguyên dương n: \"))\n",
        "if n > 0 and (n & (n - 1)) == 0:\n",
        "    print(f\"{n} là lũy thừa của 2.\")\n",
        "else:\n",
        "    print(f\"{n} không phải là lũy thừa của 2.\")\n"
      ],
      "metadata": {
        "colab": {
          "base_uri": "https://localhost:8080/"
        },
        "id": "nrSUHSEpmodC",
        "outputId": "42fc8859-a63e-4276-dff2-b0e6677c9bbc"
      },
      "execution_count": 4,
      "outputs": [
        {
          "output_type": "stream",
          "name": "stdout",
          "text": [
            "Nhập vào một số nguyên dương n: 6\n",
            "6 không phải là lũy thừa của 2.\n"
          ]
        }
      ]
    },
    {
      "cell_type": "markdown",
      "source": [
        "W3A4"
      ],
      "metadata": {
        "id": "-KdIJensnL0i"
      }
    },
    {
      "cell_type": "code",
      "source": [
        "a = int(input(\"Nhập một số m:\"))\n",
        "b = int(input(\"Nhập một số n:\"))\n",
        "print(\"kết quả là:\",a//b)"
      ],
      "metadata": {
        "colab": {
          "base_uri": "https://localhost:8080/"
        },
        "id": "KqlXDj-mnNqK",
        "outputId": "0613f56b-c645-45ab-abf4-15e66d655f27"
      },
      "execution_count": 6,
      "outputs": [
        {
          "output_type": "stream",
          "name": "stdout",
          "text": [
            "Nhập một số m:12\n",
            "Nhập một số n:5\n",
            "kết quả là: 2\n"
          ]
        }
      ]
    },
    {
      "cell_type": "markdown",
      "source": [
        "W3A5"
      ],
      "metadata": {
        "id": "R49LIVPiqDRZ"
      }
    },
    {
      "cell_type": "code",
      "source": [
        "\n",
        "m = int(input(\"Nhập số nguyên m: \"))\n",
        "n = int(input(\"Nhập số nguyên n: \"))\n",
        "c = math.ceil(m / n)\n",
        "print(\"kết quả là:\",c)"
      ],
      "metadata": {
        "colab": {
          "base_uri": "https://localhost:8080/"
        },
        "id": "ICoXjXljqFmw",
        "outputId": "1ddbbb70-d6d9-499f-b349-6bd397cf7078"
      },
      "execution_count": 19,
      "outputs": [
        {
          "output_type": "stream",
          "name": "stdout",
          "text": [
            "Nhập số nguyên m: 13\n",
            "Nhập số nguyên n: 6\n",
            "kết quả là: 3\n"
          ]
        }
      ]
    },
    {
      "cell_type": "markdown",
      "source": [
        "W3A6"
      ],
      "metadata": {
        "id": "hz66UckdH_PU"
      }
    },
    {
      "cell_type": "code",
      "source": [
        "a = int(input(\"Nhập một số nghuyên dương bất kỳ:\"))\n",
        "if a % 2 ==0:\n",
        "  print(\"Even\")\n",
        "else:\n",
        "  print(\"Odd\")"
      ],
      "metadata": {
        "colab": {
          "base_uri": "https://localhost:8080/"
        },
        "id": "saoGTySnIBXr",
        "outputId": "72565246-b368-4cc1-df3d-0cc2ac37a7a2"
      },
      "execution_count": 25,
      "outputs": [
        {
          "output_type": "stream",
          "name": "stdout",
          "text": [
            "Nhập một số nghuyên dương bất kỳ:20\n",
            "Even\n"
          ]
        }
      ]
    },
    {
      "cell_type": "markdown",
      "source": [
        "W3A7"
      ],
      "metadata": {
        "id": "_kD7VveHJH50"
      }
    },
    {
      "cell_type": "code",
      "source": [
        "a , b = map(float,(input(\"nhập 2 số nguyên:\")).split())\n",
        "if a and b <0:\n",
        "  print(\"Yes\")\n",
        "else:\n",
        "  print(\"No\")"
      ],
      "metadata": {
        "colab": {
          "base_uri": "https://localhost:8080/"
        },
        "id": "NHnz-ifQJKIC",
        "outputId": "759d06f0-79e2-4e80-d159-0006df66c9c4"
      },
      "execution_count": 28,
      "outputs": [
        {
          "output_type": "stream",
          "name": "stdout",
          "text": [
            "nhập 2 số nguyên:-3 -5\n",
            "Yes\n"
          ]
        }
      ]
    },
    {
      "cell_type": "markdown",
      "source": [
        "W3A8"
      ],
      "metadata": {
        "id": "xrvuU4M1KB3z"
      }
    },
    {
      "cell_type": "code",
      "source": [
        "\n",
        "a = input(\"Nhập chuỗi a: \")\n",
        "b = input(\"Nhập chuỗi b: \")\n",
        "if len(a) > len(b):\n",
        "    print(\"True\")\n",
        "else:\n",
        "    print(\"False\")\n"
      ],
      "metadata": {
        "colab": {
          "base_uri": "https://localhost:8080/"
        },
        "id": "mFCClaV0KDdS",
        "outputId": "736621a8-fb47-4be7-ee85-6d07916b0ff1"
      },
      "execution_count": 29,
      "outputs": [
        {
          "output_type": "stream",
          "name": "stdout",
          "text": [
            "Nhập chuỗi a: cocacola\n",
            "Nhập chuỗi b: pepsi\n",
            "True\n"
          ]
        }
      ]
    },
    {
      "cell_type": "markdown",
      "source": [
        "W3A9"
      ],
      "metadata": {
        "id": "kLHRBNvMLDCa"
      }
    },
    {
      "cell_type": "code",
      "source": [
        "a , b , c =map(float,(input(\"Nhập 3 số nguyên dương bất kỳ:\")).split())\n",
        "if a + b > c and a + c > b and b + c > a :\n",
        "  print(\"Yes\")\n",
        "else:\n",
        "  print(\"No\")"
      ],
      "metadata": {
        "colab": {
          "base_uri": "https://localhost:8080/"
        },
        "id": "oflp_ScELE9q",
        "outputId": "b51e2873-23d1-41a7-87d8-487b0848aa78"
      },
      "execution_count": 42,
      "outputs": [
        {
          "output_type": "stream",
          "name": "stdout",
          "text": [
            "Nhập 3 số nguyên dương bất kỳ:3 4 5\n",
            "Yes\n"
          ]
        }
      ]
    },
    {
      "cell_type": "markdown",
      "source": [
        "W3A10"
      ],
      "metadata": {
        "id": "OCkrEMW3NBlT"
      }
    },
    {
      "cell_type": "code",
      "source": [
        "a , b , c , d =map(float,(input(\"nhập 4 số nguyên bất kỳ:\")).split())\n",
        "print(\"Số lớn nhất là:\",max(a,b,c,d))"
      ],
      "metadata": {
        "colab": {
          "base_uri": "https://localhost:8080/"
        },
        "id": "u2fS6550NDfS",
        "outputId": "27e4c7be-3b3e-48bd-f9d7-86782e13ab8c"
      },
      "execution_count": 41,
      "outputs": [
        {
          "output_type": "stream",
          "name": "stdout",
          "text": [
            "nhập 4 số nguyên bất kỳ:1 2 3 4\n",
            "Số lớn nhất là: 4.0\n"
          ]
        }
      ]
    },
    {
      "cell_type": "markdown",
      "source": [
        "W3A11"
      ],
      "metadata": {
        "id": "ii-j340iN4ZK"
      }
    },
    {
      "cell_type": "code",
      "source": [
        "a , b , c =map(float,(input(\"nhập 3 số nguyên dương bất kỳ:\")).split())\n",
        "if a+b>c and a+c>b and b+c>a:\n",
        "  if a==b==c:\n",
        "    print(\"tam giác đều\")\n",
        "  elif a==b or a==c or b==c:\n",
        "    print(\"tam giác cân\")\n",
        "  else:\n",
        "    print(\"tam giác thường\")\n",
        "else:\n",
        "  print(\"không phải tam giác\")"
      ],
      "metadata": {
        "colab": {
          "base_uri": "https://localhost:8080/"
        },
        "id": "cO8W6zLnN5rK",
        "outputId": "449e1dd0-9f88-4c65-da5a-b15de4e74a8b"
      },
      "execution_count": 58,
      "outputs": [
        {
          "output_type": "stream",
          "name": "stdout",
          "text": [
            "nhập 3 số nguyên dương bất kỳ:3 3 3\n",
            "tam giác đều\n"
          ]
        }
      ]
    },
    {
      "cell_type": "markdown",
      "source": [
        "W3A12"
      ],
      "metadata": {
        "id": "SLl2XxaxSSGx"
      }
    },
    {
      "cell_type": "code",
      "source": [
        "a = int(input(\"Nhập năm bất kỳ:\"))\n",
        "if a%4==0 and a%100!=0 or a%400==0:\n",
        "  print(\"Yes\")\n",
        "else:\n",
        "  print(\"No\")"
      ],
      "metadata": {
        "colab": {
          "base_uri": "https://localhost:8080/"
        },
        "id": "TnXeuuhdSUAq",
        "outputId": "7a52a317-b349-4077-c834-fa1553b07772"
      },
      "execution_count": 60,
      "outputs": [
        {
          "output_type": "stream",
          "name": "stdout",
          "text": [
            "Nhập năm bất kỳ:2025\n",
            "No\n"
          ]
        }
      ]
    },
    {
      "cell_type": "markdown",
      "source": [
        "W3A14"
      ],
      "metadata": {
        "id": "uOmht4jZTe0R"
      }
    },
    {
      "cell_type": "code",
      "source": [
        "a , b = map(float,(input(\"nhập 2 số thực bất kỳ:\")).split())\n",
        "if a != 0:\n",
        "    x = -b / a\n",
        "    print(\"Nghiệm của phương trình là:\", round(x, 2))\n",
        "elif b == 0:\n",
        "    print(\"Vô số nghiệm\")\n",
        "else:\n",
        "    print(\"Vô nghiệm\")\n"
      ],
      "metadata": {
        "colab": {
          "base_uri": "https://localhost:8080/"
        },
        "id": "9RdgRLryThgx",
        "outputId": "2c7ce493-8f2d-4804-f9e6-040135dd129b"
      },
      "execution_count": 63,
      "outputs": [
        {
          "output_type": "stream",
          "name": "stdout",
          "text": [
            "nhập 2 số thực bất kỳ:12 13\n",
            "Nghiệm của phương trình là: -1.08\n"
          ]
        }
      ]
    },
    {
      "cell_type": "markdown",
      "source": [
        "W3A15"
      ],
      "metadata": {
        "id": "uLH28gl4Uwmq"
      }
    },
    {
      "cell_type": "code",
      "source": [
        "a = int(input(\"nhập điểm trung bình:\"))\n",
        "if a>=8:\n",
        "  print(\"giỏi\")\n",
        "elif a>=6.5:\n",
        "  print(\"khá\")\n",
        "elif a>=5:\n",
        "  print(\"trung bình\")\n",
        "elif a<5:\n",
        "  print(\"Yếu\")"
      ],
      "metadata": {
        "colab": {
          "base_uri": "https://localhost:8080/"
        },
        "id": "26W6ul-ZUyrh",
        "outputId": "deeef589-2401-44b2-87a8-37c316d2805b"
      },
      "execution_count": 66,
      "outputs": [
        {
          "output_type": "stream",
          "name": "stdout",
          "text": [
            "nhập điểm trung bình:9\n",
            "giỏi\n"
          ]
        }
      ]
    },
    {
      "cell_type": "markdown",
      "source": [
        "W3A16"
      ],
      "metadata": {
        "id": "O0YXiZrpVndZ"
      }
    },
    {
      "cell_type": "code",
      "source": [
        "\n",
        "x = float(input(\"Nhập số thực x: \"))\n",
        "if x >= 0:\n",
        "    floor_val = int(x)\n",
        "else:\n",
        "    floor_val = int(x) - (1 if x != int(x) else 0)\n",
        "if x >= 0:\n",
        "    ceil_val = int(x) + (1 if x != int(x) else 0)\n",
        "else:\n",
        "    ceil_val = int(x)\n",
        "frac = abs(x - int(x))\n",
        "if x >= 0:\n",
        "    round_val = int(x) + (1 if frac >= 0.5 else 0)\n",
        "else:\n",
        "    round_val = int(x) - (1 if frac >= 0.5 else 0)\n",
        "print(ceil_val, floor_val, round_val)\n"
      ],
      "metadata": {
        "colab": {
          "base_uri": "https://localhost:8080/"
        },
        "id": "zMTMYuR_Vpgx",
        "outputId": "0347da9c-2841-4623-ce27-194c9a4993c0"
      },
      "execution_count": 67,
      "outputs": [
        {
          "output_type": "stream",
          "name": "stdout",
          "text": [
            "Nhập số thực x: 3.6\n",
            "4 3 4\n"
          ]
        }
      ]
    },
    {
      "cell_type": "markdown",
      "source": [
        "W3A17"
      ],
      "metadata": {
        "id": "BWiFJQp-ZnFa"
      }
    },
    {
      "cell_type": "code",
      "source": [
        "a ,b ,c ,d=map(float,(input(\"nhập 4 số bất kỳ:\")).split())\n",
        "if a//b==b//c==c//d and a>b>c>d or a<b<c<d:\n",
        "  print(\"có là csn\")\n",
        "else:\n",
        "  print(\"không là csn\")"
      ],
      "metadata": {
        "colab": {
          "base_uri": "https://localhost:8080/"
        },
        "id": "fI2z_psNZplh",
        "outputId": "4290f5b3-5846-43ed-f43f-728b539d2ab8"
      },
      "execution_count": 70,
      "outputs": [
        {
          "output_type": "stream",
          "name": "stdout",
          "text": [
            "nhập 4 số bất kỳ:1 2 4 8\n",
            "có là csn\n"
          ]
        }
      ]
    }
  ]
}