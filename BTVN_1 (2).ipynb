{
  "nbformat": 4,
  "nbformat_minor": 0,
  "metadata": {
    "colab": {
      "provenance": []
    },
    "kernelspec": {
      "name": "python3",
      "display_name": "Python 3"
    },
    "language_info": {
      "name": "python"
    }
  },
  "cells": [
    {
      "cell_type": "markdown",
      "source": [
        "W2A1"
      ],
      "metadata": {
        "id": "n0m7eDl4FvVS"
      }
    },
    {
      "cell_type": "code",
      "source": [
        "print('Hello World!')"
      ],
      "metadata": {
        "colab": {
          "base_uri": "https://localhost:8080/"
        },
        "id": "o0wYQDw6F7Bg",
        "outputId": "3840523a-0c98-4b0f-a7e5-e0f38651c6eb"
      },
      "execution_count": 1,
      "outputs": [
        {
          "output_type": "stream",
          "name": "stdout",
          "text": [
            "Hello World!\n"
          ]
        }
      ]
    },
    {
      "cell_type": "markdown",
      "source": [
        "W2A2"
      ],
      "metadata": {
        "id": "Oq610ptKFwJA"
      }
    },
    {
      "cell_type": "code",
      "source": [
        "data = input('nhập tên bất kỳ:')\n",
        "print('hello',data)"
      ],
      "metadata": {
        "colab": {
          "base_uri": "https://localhost:8080/"
        },
        "id": "BCFhyU8QGChS",
        "outputId": "fda54ef6-c328-4ea2-cd54-868c8395c863"
      },
      "execution_count": 3,
      "outputs": [
        {
          "output_type": "stream",
          "name": "stdout",
          "text": [
            "nhập tên bất kỳ:Duy\n",
            "hello Duy\n"
          ]
        }
      ]
    },
    {
      "cell_type": "markdown",
      "source": [
        "W2A3"
      ],
      "metadata": {
        "id": "5eJuIlgRGTsg"
      }
    },
    {
      "cell_type": "code",
      "source": [
        "a = int(input('nhập 1 số nguyên bất kỳ:'))\n",
        "b = int(input('nhập 1 số nguyên bất kỳ:'))\n",
        "tong = a + b\n",
        "print ('Tổng:' + str(tong))\n",
        "hieu = a - b\n",
        "print ('Hiệu:' + str(hieu))\n",
        "tich = a * b\n",
        "print ('Tích:' + str(tich))\n",
        "phan_du = a % b\n",
        "lam_tron = round (a/b,2)\n",
        "print('Thương(làm tròn đến 2 chữ số thập phân:)' + str(lam_tron))\n",
        "print('phần dư:' + str(phan_du))\n"
      ],
      "metadata": {
        "colab": {
          "base_uri": "https://localhost:8080/"
        },
        "id": "7EabB0t5GWMB",
        "outputId": "71f68587-ea3e-4620-ea4b-b517f04d417b"
      },
      "execution_count": 4,
      "outputs": [
        {
          "output_type": "stream",
          "name": "stdout",
          "text": [
            "nhập 1 số nguyên bất kỳ:12\n",
            "nhập 1 số nguyên bất kỳ:15\n",
            "Tổng:27\n",
            "Hiệu:-3\n",
            "Tích:180\n",
            "Thương(làm tròn đến 2 chữ số thập phân:)0.8\n",
            "phần dư:12\n"
          ]
        }
      ]
    },
    {
      "cell_type": "markdown",
      "source": [
        "W2A4"
      ],
      "metadata": {
        "id": "tdGXqhexG5fQ"
      }
    },
    {
      "cell_type": "code",
      "source": [
        "a1, b1, c1, a2, b2, a3 = map(float,(input('nhập điểm:').split()))\n",
        "tong = (a1 + b1 + c1) + (a2 + b2)*2 +a3 * 3\n",
        "trung_binh = round (tong/10,1)\n",
        "print('Điểm trung bình:' + str(trung_binh))\n"
      ],
      "metadata": {
        "colab": {
          "base_uri": "https://localhost:8080/"
        },
        "id": "oPYOrKUaG_-h",
        "outputId": "0ea2d291-80e5-4ab4-9057-993f659c5d7a"
      },
      "execution_count": 6,
      "outputs": [
        {
          "output_type": "stream",
          "name": "stdout",
          "text": [
            "nhập điểm:1 2 3 4 5 6\n",
            "Điểm trung bình:4.2\n"
          ]
        }
      ]
    },
    {
      "cell_type": "markdown",
      "source": [
        "W2A5"
      ],
      "metadata": {
        "id": "M9FoAQ10HN6Y"
      }
    },
    {
      "cell_type": "code",
      "source": [
        "a , b =map(float,(input('Nhập số:').split()))\n",
        "c = a ** b\n",
        "print('a mũ b:' + str(c))\n"
      ],
      "metadata": {
        "colab": {
          "base_uri": "https://localhost:8080/"
        },
        "id": "SANUpimMHQu5",
        "outputId": "1b8c909c-2933-42fb-c1f0-e0b9e96320ee"
      },
      "execution_count": 8,
      "outputs": [
        {
          "output_type": "stream",
          "name": "stdout",
          "text": [
            "Nhập số:12 13\n",
            "a mũ b:106993205379072.0\n"
          ]
        }
      ]
    },
    {
      "cell_type": "markdown",
      "source": [
        "W2A6"
      ],
      "metadata": {
        "id": "uPy68xYKHj44"
      }
    },
    {
      "cell_type": "code",
      "source": [
        "a = input('Nhập 1 chữ cái thường:')\n",
        "b =  ord(a)\n",
        "c = chr(b - 32)\n",
        "print('Kí hiệu in hoa:',str(c))\n"
      ],
      "metadata": {
        "colab": {
          "base_uri": "https://localhost:8080/"
        },
        "id": "pN4eZ8RrHmAo",
        "outputId": "baf32811-2732-47e6-8463-f4af659ba88e"
      },
      "execution_count": 10,
      "outputs": [
        {
          "output_type": "stream",
          "name": "stdout",
          "text": [
            "Nhập 1 chữ cái thường:w\n",
            "Kí hiệu in hoa: W\n"
          ]
        }
      ]
    },
    {
      "cell_type": "markdown",
      "source": [
        "W2A7"
      ],
      "metadata": {
        "id": "uxTAcLmiH0i5"
      }
    },
    {
      "cell_type": "code",
      "source": [
        "a =int(((13**2)*3)+5)\n",
        "b =int(13**2*3+5)\n",
        "print('A=',a)\n",
        "print('B=',b)\n"
      ],
      "metadata": {
        "colab": {
          "base_uri": "https://localhost:8080/"
        },
        "id": "TAtTmNoOH3ig",
        "outputId": "4cf2396a-1dda-4318-9352-e03a8fb49ad6"
      },
      "execution_count": 11,
      "outputs": [
        {
          "output_type": "stream",
          "name": "stdout",
          "text": [
            "A= 512\n",
            "B= 512\n"
          ]
        }
      ]
    },
    {
      "cell_type": "markdown",
      "source": [
        "W2A8"
      ],
      "metadata": {
        "id": "9Po18AjlH-7Z"
      }
    },
    {
      "cell_type": "code",
      "source": [
        "a =int(input('Nhập nhiệt độ C:'))\n",
        "b = 9/5*a+32\n",
        "c = round(b,2)\n",
        "print('Độ F tương đương :',c)\n"
      ],
      "metadata": {
        "colab": {
          "base_uri": "https://localhost:8080/"
        },
        "id": "sqYzuy8wIBG5",
        "outputId": "8a991146-160a-4cec-b18d-53a73bbc9569"
      },
      "execution_count": 12,
      "outputs": [
        {
          "output_type": "stream",
          "name": "stdout",
          "text": [
            "Nhập nhiệt độ C:13\n",
            "Độ F tương đương : 55.4\n"
          ]
        }
      ]
    },
    {
      "cell_type": "markdown",
      "source": [
        "W2A9"
      ],
      "metadata": {
        "id": "cE7zUNEsIIIS"
      }
    },
    {
      "cell_type": "code",
      "source": [
        "a =int(input('Tiền đồng hồ:'))\n",
        "b = round((7/5*a)+10,2)\n",
        "print('Tiền phải trả thực:',b)\n"
      ],
      "metadata": {
        "colab": {
          "base_uri": "https://localhost:8080/"
        },
        "id": "S2kLG3XDIJ9I",
        "outputId": "e5cc8814-b155-4294-9244-4b26ed7db6ee"
      },
      "execution_count": 13,
      "outputs": [
        {
          "output_type": "stream",
          "name": "stdout",
          "text": [
            "Tiền đồng hồ:12\n",
            "Tiền phải trả thực: 26.8\n"
          ]
        }
      ]
    },
    {
      "cell_type": "markdown",
      "source": [
        "W2A10"
      ],
      "metadata": {
        "id": "xbANR_4MIPUo"
      }
    },
    {
      "cell_type": "code",
      "source": [
        "a = input('Người thứ nhất:')\n",
        "b = input('Người thứ hai:')\n",
        "c = input('người thứ ba:')\n",
        "print('Hi',str(c)+',',str(b),'and',str(a))\n"
      ],
      "metadata": {
        "colab": {
          "base_uri": "https://localhost:8080/"
        },
        "id": "wnq-U6MDIRfI",
        "outputId": "95ae1766-3605-43d6-b78d-0cf6b8a068fe"
      },
      "execution_count": 14,
      "outputs": [
        {
          "output_type": "stream",
          "name": "stdout",
          "text": [
            "Người thứ nhất:Bob\n",
            "Người thứ hai:Alice\n",
            "người thứ ba:Helen\n",
            "Hi Helen, Alice and Bob\n"
          ]
        }
      ]
    },
    {
      "cell_type": "markdown",
      "source": [
        "W2A11"
      ],
      "metadata": {
        "id": "AO9BzWGpItLy"
      }
    },
    {
      "cell_type": "code",
      "source": [
        "a = int(input('Số giờ:'))\n",
        "b = int(input('Số phút:'))\n",
        "c = (60*60*a)+(60*b)\n",
        "print('Số giây tương ứng:',c)\n"
      ],
      "metadata": {
        "colab": {
          "base_uri": "https://localhost:8080/"
        },
        "id": "yxfBHkeGIvDR",
        "outputId": "cc0f1265-65bf-44a0-ff41-fadecc8d0468"
      },
      "execution_count": 15,
      "outputs": [
        {
          "output_type": "stream",
          "name": "stdout",
          "text": [
            "Số giờ:12\n",
            "Số phút:12\n",
            "Số giây tương ứng: 43920\n"
          ]
        }
      ]
    },
    {
      "cell_type": "markdown",
      "source": [
        "W2A12"
      ],
      "metadata": {
        "id": "Qv6SS7K5I2eA"
      }
    },
    {
      "cell_type": "code",
      "source": [
        "a =int(input('Độ dài cạnh của Rubik:'))\n",
        "b =((a*a)*6)\n",
        "print('Số lượng miếng dán cần thiết để bao phủ khối lập phương:',b)\n"
      ],
      "metadata": {
        "colab": {
          "base_uri": "https://localhost:8080/"
        },
        "id": "MNmtUydvI5pg",
        "outputId": "da2dcac6-aec5-40e2-895f-30ad9bb16e41"
      },
      "execution_count": 16,
      "outputs": [
        {
          "output_type": "stream",
          "name": "stdout",
          "text": [
            "Độ dài cạnh của Rubik:12\n",
            "Số lượng miếng dán cần thiết để bao phủ khối lập phương: 864\n"
          ]
        }
      ]
    },
    {
      "cell_type": "markdown",
      "source": [
        "W2A13"
      ],
      "metadata": {
        "id": "WAY_gHWhJAEQ"
      }
    },
    {
      "cell_type": "code",
      "source": [
        "a = int(input('Số nguyên dương a:'))\n",
        "b = int(input('Số nguyên dương b:'))\n",
        "c = a*b\n",
        "print('Hàng đơn vị của tích:',c % 10)\n"
      ],
      "metadata": {
        "colab": {
          "base_uri": "https://localhost:8080/"
        },
        "id": "-XCvUi4YJCVA",
        "outputId": "a126fad7-6a9d-4402-db7c-36755da6f369"
      },
      "execution_count": 17,
      "outputs": [
        {
          "output_type": "stream",
          "name": "stdout",
          "text": [
            "Số nguyên dương a:14\n",
            "Số nguyên dương b:16\n",
            "Hàng đơn vị của tích: 4\n"
          ]
        }
      ]
    },
    {
      "cell_type": "markdown",
      "source": [
        "W2A14"
      ],
      "metadata": {
        "id": "mqZ8gDfOJLAp"
      }
    },
    {
      "cell_type": "code",
      "source": [
        "a = input('Số a:')\n",
        "b = input('Số b:')\n",
        "print('Số a:'+b)\n",
        "print('Số b:'+a)\n"
      ],
      "metadata": {
        "colab": {
          "base_uri": "https://localhost:8080/"
        },
        "id": "Qtfb4t1FJMxY",
        "outputId": "294ba4fa-0d5f-4cee-bca8-5c4fb77a7416"
      },
      "execution_count": 18,
      "outputs": [
        {
          "output_type": "stream",
          "name": "stdout",
          "text": [
            "Số a:1\n",
            "Số b:3\n",
            "Số a:3\n",
            "Số b:1\n"
          ]
        }
      ]
    },
    {
      "cell_type": "markdown",
      "source": [
        "W2A15"
      ],
      "metadata": {
        "id": "3nATsh4WJU-5"
      }
    },
    {
      "cell_type": "code",
      "source": [
        "a =int(input('Số nguyên dương bất kỳ:'))\n",
        "b =round(a//6,0)\n",
        "print('Số sao thứ:'+str(b))\n"
      ],
      "metadata": {
        "colab": {
          "base_uri": "https://localhost:8080/"
        },
        "id": "ZYnF90SCJXGq",
        "outputId": "1eed99ff-cf33-4247-dc97-41773f191c09"
      },
      "execution_count": 20,
      "outputs": [
        {
          "output_type": "stream",
          "name": "stdout",
          "text": [
            "Số nguyên dương bất kỳ:99\n",
            "Số sao thứ:16\n"
          ]
        }
      ]
    },
    {
      "cell_type": "markdown",
      "source": [
        "W2A16"
      ],
      "metadata": {
        "id": "4GwGkqUAJh4Y"
      }
    },
    {
      "cell_type": "code",
      "source": [
        "print('Spring\\nSummer\\nAutumn\\nWinter')\n"
      ],
      "metadata": {
        "colab": {
          "base_uri": "https://localhost:8080/"
        },
        "id": "8olkpA-AJjp5",
        "outputId": "6726c17f-4387-44a4-8509-de844566ab2e"
      },
      "execution_count": 21,
      "outputs": [
        {
          "output_type": "stream",
          "name": "stdout",
          "text": [
            "Spring\n",
            "Summer\n",
            "Autumn\n",
            "Winter\n"
          ]
        }
      ]
    },
    {
      "cell_type": "markdown",
      "source": [
        "W2A17"
      ],
      "metadata": {
        "id": "fIULq9JVJota"
      }
    },
    {
      "cell_type": "code",
      "source": [
        "print('*\\n***\\n*****')\n"
      ],
      "metadata": {
        "colab": {
          "base_uri": "https://localhost:8080/"
        },
        "id": "6hkMrBFuJqrh",
        "outputId": "7a14a96c-41b3-41b7-e4eb-3ab12ed4f5cb"
      },
      "execution_count": 22,
      "outputs": [
        {
          "output_type": "stream",
          "name": "stdout",
          "text": [
            "*\n",
            "***\n",
            "*****\n"
          ]
        }
      ]
    },
    {
      "cell_type": "markdown",
      "source": [
        "W2A18"
      ],
      "metadata": {
        "id": "0eEcaprDJtH4"
      }
    },
    {
      "cell_type": "code",
      "source": [
        "print('### # #  ### ###')\n",
        "print(' #  #  #  #   #')\n",
        "print(' #  #   # #   #')\n",
        "print(' #  #  #  #   #')\n",
        "print(' #  # #   #   #')\n"
      ],
      "metadata": {
        "colab": {
          "base_uri": "https://localhost:8080/"
        },
        "id": "-WRAzRNwJum4",
        "outputId": "bd78e55d-888d-4c57-c20f-47e351c185b3"
      },
      "execution_count": 23,
      "outputs": [
        {
          "output_type": "stream",
          "name": "stdout",
          "text": [
            "### # #  ### ###\n",
            " #  #  #  #   #\n",
            " #  #   # #   #\n",
            " #  #  #  #   #\n",
            " #  # #   #   #\n"
          ]
        }
      ]
    },
    {
      "cell_type": "markdown",
      "source": [
        "W2A19"
      ],
      "metadata": {
        "id": "29iKg9MAJ2eI"
      }
    },
    {
      "cell_type": "code",
      "source": [
        "print('Monday\\nTuesday\\nWednesday\\nThursday\\nFriday\\nSaturday\\nSunday')\n"
      ],
      "metadata": {
        "colab": {
          "base_uri": "https://localhost:8080/"
        },
        "id": "h5XrxcGFJ4cY",
        "outputId": "c6aa376c-1df3-4fda-d0af-77bbc67e5b47"
      },
      "execution_count": 24,
      "outputs": [
        {
          "output_type": "stream",
          "name": "stdout",
          "text": [
            "Monday\n",
            "Tuesday\n",
            "Wednesday\n",
            "Thursday\n",
            "Friday\n",
            "Saturday\n",
            "Sunday\n"
          ]
        }
      ]
    },
    {
      "cell_type": "markdown",
      "source": [
        "W2A20"
      ],
      "metadata": {
        "id": "2EsrHazHJ_04"
      }
    },
    {
      "cell_type": "code",
      "source": [
        "print('January\\nFebruary\\nMarch\\nApril\\nMay\\nJune\\nJuly\\nAugust\\nSeptember\\nOctober\\nNovember\\nDecember')\n"
      ],
      "metadata": {
        "colab": {
          "base_uri": "https://localhost:8080/"
        },
        "id": "FInMgk9YKBdp",
        "outputId": "ef789792-fa5c-4b5f-fcee-7e684fc7fa89"
      },
      "execution_count": 25,
      "outputs": [
        {
          "output_type": "stream",
          "name": "stdout",
          "text": [
            "January\n",
            "February\n",
            "March\n",
            "April\n",
            "May\n",
            "June\n",
            "July\n",
            "August\n",
            "September\n",
            "October\n",
            "November\n",
            "December\n"
          ]
        }
      ]
    },
    {
      "cell_type": "markdown",
      "source": [
        "W2A21"
      ],
      "metadata": {
        "id": "nMkuiwBrKEP4"
      }
    },
    {
      "cell_type": "code",
      "source": [
        "for i in range(0,10):\n",
        "  print('Hello,world')\n"
      ],
      "metadata": {
        "colab": {
          "base_uri": "https://localhost:8080/"
        },
        "id": "FtGiN9vCKGeQ",
        "outputId": "71d024d7-08f8-460a-9346-1bc1e0962dfd"
      },
      "execution_count": 26,
      "outputs": [
        {
          "output_type": "stream",
          "name": "stdout",
          "text": [
            "Hello,world\n",
            "Hello,world\n",
            "Hello,world\n",
            "Hello,world\n",
            "Hello,world\n",
            "Hello,world\n",
            "Hello,world\n",
            "Hello,world\n",
            "Hello,world\n",
            "Hello,world\n"
          ]
        }
      ]
    }
  ]
}